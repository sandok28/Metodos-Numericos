{
 "cells": [
  {
   "cell_type": "code",
   "execution_count": 4,
   "metadata": {
    "collapsed": false
   },
   "outputs": [
    {
     "name": "stdout",
     "output_type": "stream",
     "text": [
      "Iteracion  | xl         | xu         | xr         | Ea(%)      | Et(%)      |\n",
      "         1 |        0.0 |        1.0 |        0.5 |      100.0 | 16.379999999999995 |\n",
      "         2 |        0.0 |        0.5 |       0.25 |      100.0 | 67.24000000000001 |\n",
      "         3 |       0.25 |        0.5 |      0.375 |       33.3 | 11.49333333333334 |\n",
      "         4 |      0.375 |        0.5 |     0.4375 |       14.3 | 4.434285714285708 |\n",
      "         5 |      0.375 |     0.4375 |    0.40625 |        7.7 | 2.9169230769230836 |\n"
     ]
    }
   ],
   "source": [
    "import math\n",
    "import matplotlib.pyplot as plt\n",
    "i=-6\n",
    "\n",
    "X,Y=[],[]\n",
    "def funcion(val):\n",
    "    valor=5*val*val*val-5*val*val+6*val-2\n",
    "    return valor\n",
    "while 1:\n",
    "    X.append(i)\n",
    "    Y.append(funcion(i))\n",
    "    i+=1\n",
    "    if(i==7):\n",
    "        break\n",
    "    \n",
    "plt.axis([-6,6,-1000,1000])\n",
    "plt.plot(X,Y)\n",
    "plt.title(\"Metodo Grafico\")\n",
    "plt.xlabel(\"TUIEMPO\")\n",
    "plt.ylabel(\"Y(X)\")\n",
    "plt.grid(True)\n",
    "plt.show()\n",
    "\n",
    "xl,xu,xr,fxl,fxr,xrant,i=0.0,1.0,0.0,1.0,1.0,0.0,1\n",
    "es=10\n",
    "verd=0.41810\n",
    "print(\"{0:10} | {1:10} | {2:10} | {3:10} | {4:10} | {5:10} |\".format(\"Iteracion\", \"xl\", \"xu\",\"xr\",\"Ea(%)\",\"Et(%)\"));\n",
    "while 1:\n",
    "    xrant=xr\n",
    "    xr=(xl+xu)/2\n",
    "    fxl=funcion(xl)\n",
    "    fxr=funcion(xr)\n",
    "    ea=math.fabs((xr-xrant)/xr)*100\n",
    "    et=math.fabs((verd-xr)/xr)*100\n",
    "    \n",
    "    print(\"{0:10} | {1:10} | {2:10} | {3:10} | {4:10} | {5:10} |\".format(i,xl,xu,xr,round(ea,1),et));\n",
    "    if(ea<es):\n",
    "        break\n",
    "    if((fxl*fxr)<0):\n",
    "        xu=xr\n",
    "    if((fxl*fxr)>0):\n",
    "        xl=xr\n",
    "    i+=1\n"
   ]
  },
  {
   "cell_type": "code",
   "execution_count": null,
   "metadata": {
    "collapsed": true
   },
   "outputs": [],
   "source": []
  }
 ],
 "metadata": {
  "kernelspec": {
   "display_name": "Python 3",
   "language": "python",
   "name": "python3"
  },
  "language_info": {
   "codemirror_mode": {
    "name": "ipython",
    "version": 3
   },
   "file_extension": ".py",
   "mimetype": "text/x-python",
   "name": "python",
   "nbconvert_exporter": "python",
   "pygments_lexer": "ipython3",
   "version": "3.5.1"
  }
 },
 "nbformat": 4,
 "nbformat_minor": 0
}
