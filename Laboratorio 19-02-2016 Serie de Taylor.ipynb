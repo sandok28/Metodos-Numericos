{
 "cells": [
  {
   "cell_type": "code",
   "execution_count": 6,
   "metadata": {
    "collapsed": false
   },
   "outputs": [
    {
     "name": "stdout",
     "output_type": "stream",
     "text": [
      "|   Orden | F(n)(x)                                         |   f(1) |   F(x+i) |           Ev | Et                    |\n",
      "|--------:|:------------------------------------------------|-------:|---------:|-------------:|:----------------------|\n",
      "|       0 | -0.1*x**4 - 0.15*x**3 - 0.5*x**2 - 0.25*x + 1.2 |   1.2  |     1.2  | -1           | -83.3333333333333%    |\n",
      "|       1 | -0.4*x**3 - 0.45*x**2 - 1.0*x - 0.25            |  -0.25 |     0.95 | -0.75        | -78.9473684210526%    |\n",
      "|       2 | -1.2*x**2 - 0.9*x - 1.0                         |  -1    |     0.45 | -0.25        | -55.5555555555556%    |\n",
      "|       3 | -2.4*x - 0.9                                    |  -0.9  |     0.3  | -0.1         | -33.3333333333333%    |\n",
      "|       4 | -2.4                                            |  -2.4  |     0.2  |  8.32667e-17 | 4.16333634234434e-14% |\n"
     ]
    }
   ],
   "source": [
    "    import math\n",
    "    tabla, f=[],[]\n",
    "    x=Symbol('x')\n",
    "    h, aprox=1,0\n",
    "    f.append(-0.1*x*x*x*x-0.15*x*x*x-0.5*x*x-0.25*x+1.2)\n",
    "    val=f[0].subs(x,1).evalf()\n",
    "    f.append(-4*0.1*x*x*x-0.15*3*x*x-0.5*2*x-0.25)\n",
    "    f.append(-0.1*4*3*x*x-0.15*3*2*x-0.5*2)\n",
    "    f.append(-0.1*4*3*2*x-0.15*3*2)\n",
    "    f.append(-0.1*4*3*2)\n",
    "    for i in range(5):\n",
    "        if(i<=3):\n",
    "            res=f[i].subs(x,0).evalf()\n",
    "            ap=(res*math.pow(h,i))/math.factorial(i)\n",
    "        else:\n",
    "            res=f[i]\n",
    "            ap=(res*math.pow(h,i))/math.factorial(i)\n",
    "        aprox=aprox+ap\n",
    "        Ev=val-aprox\n",
    "        et=(Ev/val)*100\n",
    "        tabla.append([i,f[i],res, aprox, Ev, str(et)+\"%\"])    \n",
    "    print tabulate(tabla, headers=[\"Orden\", \"F(n)(x)\", \"f(1)\", \"F(x+i)\",\"Ev\",\"Et\"], tablefmt=\"pipe\")"
   ]
  },
  {
   "cell_type": "code",
   "execution_count": null,
   "metadata": {
    "collapsed": true
   },
   "outputs": [],
   "source": []
  }
 ],
 "metadata": {
  "kernelspec": {
   "display_name": "Python 3",
   "language": "python",
   "name": "python3"
  },
  "language_info": {
   "codemirror_mode": {
    "name": "ipython",
    "version": 3
   },
   "file_extension": ".py",
   "mimetype": "text/x-python",
   "name": "python",
   "nbconvert_exporter": "python",
   "pygments_lexer": "ipython3",
   "version": "3.5.1"
  }
 },
 "nbformat": 4,
 "nbformat_minor": 0
}
