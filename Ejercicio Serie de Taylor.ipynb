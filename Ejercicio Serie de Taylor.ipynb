{
 "cells": [
  {
   "cell_type": "code",
   "execution_count": 19,
   "metadata": {
    "collapsed": false,
    "scrolled": true
   },
   "outputs": [
    {
     "name": "stdout",
     "output_type": "stream",
     "text": [
      "Orden      | F(n)(x)    | F(x+i)     | Ev         | Et         |\n",
      "         0 | cos(x)     | 0.707106781186548 | -0.207106781186548 | -41.4213562373095% |\n",
      "         1 | -sin(x)    | 0.521986658763282 | -0.0219866587632823 | -4.39733175265646% |\n",
      "         2 | -cos(x)    | 0.497754491403425 | 0.00224550859657491 | 0.449101719314982% |\n",
      "         3 | sin(x)     | 0.499869146930044 | 0.000130853069955861 | 0.0261706139911722% |\n",
      "         4 | cos(x)     | 0.500007550810613 | -0.00000755081061287743 | -0.00151016212257549% |\n",
      "         5 | -sin(x)    | 0.500000304000373 | -3.04000372541857E-7 | -6.08000745083714e-5% |\n"
     ]
    }
   ],
   "source": [
    "    import math\n",
    "    from sympy import *\n",
    "    Es=(0.5*math.pow(10,(-2)))\n",
    "    val=round(cos(math.pi/3),2)\n",
    "    tabla, f=[],[]\n",
    "    x=Symbol('x')\n",
    "    ant, ang, h, aprox=0, (math.pi/4),(math.pi/12),0\n",
    "    pos1, pos2, i=1,2,0\n",
    "    print(\"{0:10} | {1:10} | {2:10} | {3:10} | {4:10} |\".format(\"Orden\", \"F(n)(x)\", \"F(x+i)\",\"Ev\",\"Et\"))\n",
    "    tipo=\"cos(x)\"\n",
    "    while 1:\n",
    "        if(i%2==0):\n",
    "            if(pos2==i):\n",
    "                f.append(-cos(x))\n",
    "                tipo=\"-cos(x)\"\n",
    "                pos2+=4\n",
    "            else:    \n",
    "                f.append(cos(x))\n",
    "                tipo=\"cos(x)\"\n",
    "        else:\n",
    "            if(pos1==i):\n",
    "                f.append(-sin(x))\n",
    "                tipo=\"-sin(x)\"\n",
    "                pos1+=4\n",
    "            else:\n",
    "                f.append(sin(x))\n",
    "                tipo=\"sin(x)\"\n",
    "                \n",
    "        res=f[i].subs(x,ang).evalf()\n",
    "        ap=(res*math.pow(h,i))/math.factorial(i)\n",
    "        ant=aprox\n",
    "        aprox=aprox+ap\n",
    "        \n",
    "        Ev=val-aprox\n",
    "        et=(Ev/val)*100\n",
    "        Ea=((aprox-ant)/aprox)*100\n",
    "        print(\"{0:10} | {1:10} | {2:10} | {3:10} | {4:10} |\".format(i,tipo, aprox,Ev, str(et)+\"%\")); \n",
    "        \n",
    "        i+=1\n",
    "        if(math.fabs(Ea)<=Es):\n",
    "            break"
   ]
  },
  {
   "cell_type": "code",
   "execution_count": null,
   "metadata": {
    "collapsed": true
   },
   "outputs": [],
   "source": []
  },
  {
   "cell_type": "code",
   "execution_count": null,
   "metadata": {
    "collapsed": true
   },
   "outputs": [],
   "source": []
  }
 ],
 "metadata": {
  "kernelspec": {
   "display_name": "Python 3",
   "language": "python",
   "name": "python3"
  },
  "language_info": {
   "codemirror_mode": {
    "name": "ipython",
    "version": 3
   },
   "file_extension": ".py",
   "mimetype": "text/x-python",
   "name": "python",
   "nbconvert_exporter": "python",
   "pygments_lexer": "ipython3",
   "version": "3.5.1"
  }
 },
 "nbformat": 4,
 "nbformat_minor": 0
}
