{
 "cells": [
  {
   "cell_type": "code",
   "execution_count": null,
   "metadata": {
    "collapsed": true
   },
   "outputs": [],
   "source": [
    "x=Symbol(\"x\")\n",
    "    x1real=5000\n",
    "    x2real=0.002\n",
    "    a,b,c=1,-5000.002,10\n",
    "    expre=a*(x*x)+b*x+c\n",
    "    \n",
    "    \n",
    "    print(\"\\n Primera Formula \")\n",
    "    print(\"{0:10} | {1:10} | {2:10} |\".format(\"Valor real\", \"Valor Aprox\", \"Error Rel %\"));\n",
    "    \n",
    "    lit=b*b-4*a*c\n",
    "    x1=(-b+math.pow(lit ,0.5))/2*a\n",
    "    Ev= math.fabs(x1real-x1)\n",
    "    Et=(Ev/x1)*100\n",
    "    print(\"{0:10} | {1:10} | {2:10} |\".format(x1real,x1,Et));\n",
    "    \n",
    "    x2=round((-b-math.pow(lit,0.5))/2*a,5 )\n",
    "    Ev= math.fabs(x2real-x2)\n",
    "    Et=(Ev/x2)*100\n",
    "    print(\"{0:10} | {1:10} | {2:10} |\".format(x2real,x2,Et));\n",
    "    \n",
    "    print(\"\\n Segunda Formula \");\n",
    "    print(\"{0:10} | {1:10} | {2:10} |\".format(\"Valor real\", \"Valor Aprox\", \"Error Rel %\"));\n",
    "    \n",
    "    xx1=round((-2*c)/(b+math.pow(lit,0.5)),5)\n",
    "    Ev= x1real-xx1\n",
    "    Et=(Ev/xx1)*100\n",
    "    print(\"{0:10} | {1:10} | {2:10} |\".format(x1real,xx1,Et));\n",
    "    \n",
    "    xx2=round((-2*c)/(b-math.pow(lit,0.5)),5)\n",
    "    Ev= x2real-xx2\n",
    "    Et=(Ev/xx2)*100\n",
    "    print(\"{0:10} | {1:10} | {2:10} |\".format(x2real,xx2,Et));"
   ]
  }
 ],
 "metadata": {
  "kernelspec": {
   "display_name": "Python 3",
   "language": "python",
   "name": "python3"
  },
  "language_info": {
   "codemirror_mode": {
    "name": "ipython",
    "version": 3
   },
   "file_extension": ".py",
   "mimetype": "text/x-python",
   "name": "python",
   "nbconvert_exporter": "python",
   "pygments_lexer": "ipython3",
   "version": "3.5.1"
  }
 },
 "nbformat": 4,
 "nbformat_minor": 0
}
