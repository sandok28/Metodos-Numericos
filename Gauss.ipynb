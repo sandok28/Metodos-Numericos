{
 "cells": [
  {
   "cell_type": "markdown",
   "metadata": {},
   "source": [
    "# Eliminacion gauss"
   ]
  },
  {
   "cell_type": "code",
   "execution_count": 7,
   "metadata": {
    "collapsed": false
   },
   "outputs": [
    {
     "name": "stdout",
     "output_type": "stream",
     "text": [
      "[4.0, -1.0, 5.0]\n",
      "[0.0, 3.75, -7.75]\n",
      "[0.0, 0.0, -3.2666666666666666]\n",
      "x 1 = 3.0 \n",
      "\n",
      "x 2 = 3.0 \n",
      "\n",
      "x 3 = -3.0 \n",
      "\n"
     ]
    }
   ],
   "source": [
    "aux=0.0\n",
    "\n",
    "n=3\n",
    "\n",
    "def Gauss_adelante():\n",
    "    \n",
    "    c=[[4.0,-1.0,5.0],[3.0,3.0,-4.0],[6.0,2.0,-3.0]]\n",
    "    res=[-6.0,30.0,33.0]\n",
    "    x=[0.0,0.0,0.0]    \n",
    "    for k in range(0,n-1):\n",
    "        for i in range(k+1,n):\n",
    "            f=(c[i][k])/(c[k][k])\n",
    "            for j in range(k,n):\n",
    "                c[i][j]=c[i][j]-f*c[k][j]\n",
    "            res[i]=res[i]-f*res[k]\n",
    "    print c[0]\n",
    "    print c[1]\n",
    "    print c[2]\n",
    "    m=2\n",
    "    \n",
    "    x[m]=res[m]/c[m][m]\n",
    "    for i in range(n-1,-1,-1):\n",
    "        sum=res[i]\n",
    "        for j in range(i+1,n):\n",
    "            sum = sum - ((c[i][j])*x[j])\n",
    "        x[i]=sum/c[i][i]\n",
    "    while(i<len(x)):\n",
    "        print \"x\", i+1, \"=\",round(x[i])  , \n",
    "        print \"\\n\"\n",
    "        i=i+1\n",
    "               \n",
    "Gauss_adelante()"
   ]
  },
  {
   "cell_type": "code",
   "execution_count": null,
   "metadata": {
    "collapsed": true
   },
   "outputs": [],
   "source": []
  }
 ],
 "metadata": {
  "kernelspec": {
   "display_name": "Python 2",
   "language": "python",
   "name": "python2"
  },
  "language_info": {
   "codemirror_mode": {
    "name": "ipython",
    "version": 2
   },
   "file_extension": ".py",
   "mimetype": "text/x-python",
   "name": "python",
   "nbconvert_exporter": "python",
   "pygments_lexer": "ipython2",
   "version": "2.7.10"
  }
 },
 "nbformat": 4,
 "nbformat_minor": 0
}
