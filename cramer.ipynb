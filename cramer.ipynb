{
 "cells": [
  {
   "cell_type": "code",
   "execution_count": 1,
   "metadata": {
    "collapsed": false
   },
   "outputs": [
    {
     "name": "stdout",
     "output_type": "stream",
     "text": [
      "\n",
      "     |-0.01   0.52      1 |\n",
      "     | 0.67      1    1.9 |\n",
      "     |-0.44    0.3    0.5 |      0.03278\n",
      "X1 = |--------------------| ==> ------- = -14.9\n",
      "            -0.0022             -0.0022\n",
      "\n",
      "     |  0.3  -0.01      1 |\n",
      "     |  0.5   0.67    1.9 |\n",
      "     |  0.1  -0.44    0.5 |      0.0649\n",
      "X2 = |--------------------| ==> ------- = -29.5\n",
      "            -0.0022             -0.0022\n",
      "\n",
      "     |  0.3   0.52  -0.01 |\n",
      "     |  0.5      1   0.67 |\n",
      "     |  0.1    0.3  -0.44 |     -0.04356\n",
      "X3 = |--------------------| ==> ------- =  19.8\n",
      "            -0.0022             -0.0022\n"
     ]
    }
   ],
   "source": [
    "# 0.3x1 + 0.52x2 + x3 = –0.01\n",
    "#0.5x1 + x2 + 1.9x3 = 0.67\n",
    "#0.1x1 + 0.3x2 + 0.5x3 = –0.44\n",
    "\n",
    "a11,a12,a13,b1=0.3,0.52,1,-0.01\n",
    "a21,a22,a23,b2=0.5,1,1.9,0.67\n",
    "a31,a32,a33,b3=0.1,0.3,0.5,-0.44\n",
    "X=[]\n",
    "\n",
    "A1,A2,A3=round(a22*a33-a32*a23,2),round(a21*a33-a31*a23,2),round(a21*a32-a31*a22,2)\n",
    "X11,X12,X13=round(a22*a33-a32*a23,4),round(b2*a33-b3*a23,4),round(b2*a32-b3*a22,4)\n",
    "X21,X22,X23=round(b2*a33-b3*a23,4),round(a21*a33-a31*a23,4),round(a21*b3-a31*b2,4)\n",
    "X31,X32,X33=round(a22*b3-a32*b2,4),round(a21*b3-a31*b2,4),round(a21*a32-a31*a22,4)\n",
    "Determinante=round(a11*A1-a12*A2+a13*A3,4)\n",
    "DeterminanteX1=round(b1*X11-a12*X12+a13*X13,6)\n",
    "DeterminanteX2=round(a11*X21-b1*X22+a13*X23,6)\n",
    "DeterminanteX3=round(a11*X31-a12*X32+b1*X33,6)\n",
    "\n",
    "print (\"\\n{0:5}|{1:5}  {2:5}  {3:5} |\".format(\"\",b1,a12,a13));\n",
    "print (\"{0:5}|{1:5}  {2:5}  {3:5} |\".format(\"\",b2,a22,a23));\n",
    "print (\"{0:5}|{1:5}  {2:5}  {3:5} |      {4:5}\".format(\"\",b3,a32,a33,DeterminanteX1));\n",
    "print (\"{0:5}|{1:5}| ==> {2:5} = {3:5}\".format(\"X1 =\",\"--------------------\",\"-------\",round(DeterminanteX1/Determinante,2)));\n",
    "print (\"{0:5} {1:5} {2:5}             {3:5}\".format(\"\",\"\",Determinante,Determinante));\n",
    "\n",
    "print (\"\\n{0:5}|{1:5}  {2:5}  {3:5} |\".format(\"\",a11,b1,a13));\n",
    "print (\"{0:5}|{1:5}  {2:5}  {3:5} |\".format(\"\",a21,b2,a23));\n",
    "print (\"{0:5}|{1:5}  {2:5}  {3:5} |      {4:5}\".format(\"\",a31,b3,a33,DeterminanteX2));\n",
    "print (\"{0:5}|{1:5}| ==> {2:5} = {3:5}\".format(\"X2 =\",\"--------------------\",\"-------\",round(DeterminanteX2/Determinante,2)));\n",
    "print (\"{0:5} {1:5} {2:5}             {3:5}\".format(\"\",\"\",Determinante,Determinante));\n",
    "\n",
    "print (\"\\n{0:5}|{1:5}  {2:5}  {3:5} |\".format(\"\",a11,a12,b1));\n",
    "print (\"{0:5}|{1:5}  {2:5}  {3:5} |\".format(\"\",a21,a22,b2));\n",
    "print (\"{0:5}|{1:5}  {2:5}  {3:5} |     {4:5}\".format(\"\",a31,a32,b3,DeterminanteX3));\n",
    "print (\"{0:5}|{1:5}| ==> {2:5} = {3:5}\".format(\"X3 =\",\"--------------------\",\"-------\",round(DeterminanteX3/Determinante,2)));\n",
    "print (\"{0:5} {1:5} {2:5}             {3:5}\".format(\"\",\"\",Determinante,Determinante));"
   ]
  },
  {
   "cell_type": "code",
   "execution_count": null,
   "metadata": {
    "collapsed": true
   },
   "outputs": [],
   "source": []
  }
 ],
 "metadata": {
  "kernelspec": {
   "display_name": "Python 3",
   "language": "python",
   "name": "python3"
  },
  "language_info": {
   "codemirror_mode": {
    "name": "ipython",
    "version": 3
   },
   "file_extension": ".py",
   "mimetype": "text/x-python",
   "name": "python",
   "nbconvert_exporter": "python",
   "pygments_lexer": "ipython3",
   "version": "3.5.1"
  }
 },
 "nbformat": 4,
 "nbformat_minor": 0
}
