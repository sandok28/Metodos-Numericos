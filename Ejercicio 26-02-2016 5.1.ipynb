{
 "cells": [
  {
   "cell_type": "code",
   "execution_count": 10,
   "metadata": {
    "collapsed": false,
    "scrolled": true
   },
   "outputs": [
    {
     "name": "stdout",
     "output_type": "stream",
     "text": [
      "FORMULA CUADRATICA --->> RAIZ 1: -1.405124837953327  Y RAIZ 2: 6.405124837953327\n",
      "Iteracion  | xl         | xu         | xr         | Ea(%)      | Et(%)      |\n",
      "         1 |        5.0 |       10.0 |        7.5 |      100.0 | 17.093736496110605 |\n",
      "         2 |        5.0 |        7.5 |       6.25 |       20.0 | 2.421886253241164 |\n",
      "         3 |       6.25 |        7.5 |      6.875 | 9.090909090909092 | 7.33592512143472 |\n"
     ]
    }
   ],
   "source": [
    "\n",
    "import math\n",
    "import matplotlib.pyplot as plt\n",
    "\n",
    "\n",
    "xl,xu,xr, fxl, fxr,i, xrant=5,10,0,1,1,-5,0\n",
    "a,b,c=-0.5,2.5,4.5\n",
    "\n",
    "X,Y=[],[]\n",
    "def funcion(val):\n",
    "    valor=-0.5*math.pow(val,2)+2.5*val+4.5\n",
    "    return valor\n",
    "#grafica\n",
    "while 1:\n",
    "    X.append(i)\n",
    "    Y.append(funcion(i))\n",
    "    i+=1\n",
    "    if(i==10):\n",
    "        break\n",
    "    \n",
    "plt.axis([-10,10,-10,10])\n",
    "plt.plot(X,Y)\n",
    "plt.title(\"Metodo Grafico\")\n",
    "plt.xlabel(\"TIEMPO\")\n",
    "plt.ylabel(\"VELOCIDAD\")\n",
    "\n",
    "plt.show()\n",
    "\n",
    "x1=(-b+math.sqrt(b*b-4*a*c))/(2*a)\n",
    "x2=(-b-math.sqrt(b*b-4*a*c))/(2*a)\n",
    "print (\"FORMULA CUADRATICA --->> RAIZ 1:\",str(x1),\" Y RAIZ 2:\",str(x2))\n",
    "\n",
    "verd=x2\n",
    "xl,xu,xr,fxl,fxr,xrant=5.0,10.0,0.0,1.0,1.0,0.0\n",
    "print(\"{0:10} | {1:10} | {2:10} | {3:10} | {4:10} | {5:10} |\".format(\"Iteracion\", \"xl\", \"xu\",\"xr\",\"Ea(%)\",\"Et(%)\"));\n",
    "for i in range(1,4):\n",
    "    xrant=xr\n",
    "    xr=(xl+xu)/2\n",
    "    fxl=funcion(xl)\n",
    "    fxr=funcion(xr)\n",
    "    ea=math.fabs((xr-xrant)/xr)*100\n",
    "    et=(math.fabs(verd-xr)/verd)*100\n",
    "    print(\"{0:10} | {1:10} | {2:10} | {3:10} | {4:10} | {5:10} |\".format(i,xl,xu,xr,ea,et));\n",
    "    if((fxl*fxr)<0):\n",
    "        xu=xr\n",
    "    if((fxl*fxr)>0):\n",
    "        xl=xr\n",
    "\n"
   ]
  },
  {
   "cell_type": "code",
   "execution_count": null,
   "metadata": {
    "collapsed": true
   },
   "outputs": [],
   "source": []
  },
  {
   "cell_type": "code",
   "execution_count": null,
   "metadata": {
    "collapsed": true
   },
   "outputs": [],
   "source": []
  }
 ],
 "metadata": {
  "kernelspec": {
   "display_name": "Python 3",
   "language": "python",
   "name": "python3"
  },
  "language_info": {
   "codemirror_mode": {
    "name": "ipython",
    "version": 3
   },
   "file_extension": ".py",
   "mimetype": "text/x-python",
   "name": "python",
   "nbconvert_exporter": "python",
   "pygments_lexer": "ipython3",
   "version": "3.5.1"
  }
 },
 "nbformat": 4,
 "nbformat_minor": 0
}
