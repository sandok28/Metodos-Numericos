{
 "cells": [
  {
   "cell_type": "code",
   "execution_count": 1,
   "metadata": {
    "collapsed": false
   },
   "outputs": [
    {
     "name": "stdout",
     "output_type": "stream",
     "text": [
      "Termino    | E^x Aprox  | Et(x)      |\n",
      "         0 |        1.0 | 39.346934028736655 % |\n",
      "         1 |        1.5 | 9.02040104310499 % |\n",
      "         2 |      1.625 | 1.4387677966970716 % |\n",
      "         3 | 1.6458333333333333 | 0.1751622556290897 % |\n",
      "         4 |  1.6484375 | 0.01721156299558695 % |\n",
      "         5 | 1.6486979166666667 | 0.0014164937322380168 % |\n"
     ]
    }
   ],
   "source": [
    "import math\n",
    "Es=(0.5*math.pow(10,(-1)))\n",
    "val=math.pow(math.e,(0.5))\n",
    "Val2=0\n",
    "i=0\n",
    "print(\"{0:10} | {1:10} | {2:10} |\".format(\"Termino\", \"E^x Aprox\", \"Et(x)\", \"Ea(x)\"))  \n",
    "while 1:\n",
    "    Exaprox=math.pow(0.5, i)/math.factorial(i)\n",
    "    ant=Val2\n",
    "    Val2+=Exaprox\n",
    "    Ever=val-Val2\n",
    "    Et=(Ever/val)*100\n",
    "    Ea=((Val2-ant)/Val2)*100\n",
    "    print(\"{0:10} | {1:10} | {2:10} |\".format(i,Val2,str(Et)+\" %\",str(Ea)+\" %\"))\n",
    "    i+=1\n",
    "    if(Ea<=Es):\n",
    "        break\n",
    "  "
   ]
  },
  {
   "cell_type": "code",
   "execution_count": null,
   "metadata": {
    "collapsed": true
   },
   "outputs": [],
   "source": []
  },
  {
   "cell_type": "code",
   "execution_count": null,
   "metadata": {
    "collapsed": true
   },
   "outputs": [],
   "source": []
  },
  {
   "cell_type": "code",
   "execution_count": null,
   "metadata": {
    "collapsed": true
   },
   "outputs": [],
   "source": []
  },
  {
   "cell_type": "code",
   "execution_count": null,
   "metadata": {
    "collapsed": true
   },
   "outputs": [],
   "source": []
  }
 ],
 "metadata": {
  "kernelspec": {
   "display_name": "Python 3",
   "language": "python",
   "name": "python3"
  },
  "language_info": {
   "codemirror_mode": {
    "name": "ipython",
    "version": 3
   },
   "file_extension": ".py",
   "mimetype": "text/x-python",
   "name": "python",
   "nbconvert_exporter": "python",
   "pygments_lexer": "ipython3",
   "version": "3.5.1"
  }
 },
 "nbformat": 4,
 "nbformat_minor": 0
}
