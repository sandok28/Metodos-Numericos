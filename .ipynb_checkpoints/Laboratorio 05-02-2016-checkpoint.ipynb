{
 "cells": [
  {
   "cell_type": "code",
   "execution_count": null,
   "metadata": {
    "collapsed": true
   },
   "outputs": [],
   "source": [
    "from numpy import *\n",
    "import matplotlib.pyplot as plt\n",
    "g= 9.8\n",
    "m= 68.1\n",
    "c= 12.5\n",
    "x=[]\n",
    "y1=[]\n",
    "\n",
    "e=2.72\n",
    "for i in range (60):\n",
    "    v1=(g*m/c)*(1-pow(e,-(c/m)*i))\n",
    "    if(i==0):\n",
    "        print(0,0)\n",
    "    print(i,v1)\n",
    "    x.append(i)\n",
    "    y1.append(v1)\n",
    "plt.plot(x,y1, label=\"Analitico\")\n",
    "plt.hold(True)\n",
    "plt.grid(True)\n",
    "plt.legend(loc=\"upper left\")\n",
    "plt.title(\"Caida Libre\")\n",
    "plt.xlabel(\"Velocidad\") \n",
    "plt.ylabel(\"Tiempo\") \n",
    "plt.show()"
   ]
  }
 ],
 "metadata": {
  "kernelspec": {
   "display_name": "Python 3",
   "language": "python",
   "name": "python3"
  },
  "language_info": {
   "codemirror_mode": {
    "name": "ipython",
    "version": 3
   },
   "file_extension": ".py",
   "mimetype": "text/x-python",
   "name": "python",
   "nbconvert_exporter": "python",
   "pygments_lexer": "ipython3",
   "version": "3.5.1"
  }
 },
 "nbformat": 4,
 "nbformat_minor": 0
}
