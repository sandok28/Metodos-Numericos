{
 "cells": [
  {
   "cell_type": "code",
   "execution_count": null,
   "metadata": {
    "collapsed": true
   },
   "outputs": [],
   "source": [
    "from numpy import *\n",
    "import matplotlib.pyplot as plt\n",
    "g= 9.8\n",
    "m= 68.1\n",
    "c= 12.5\n",
    "salto=2\n",
    "vi=0\n",
    "x=[]\n",
    "y1=[]\n",
    "y2=[]\n",
    "\n",
    "e=2.72\n",
    "for i in range (60):\n",
    "    v1=(g*m/c)*(1-pow(e,-(c/m)*i))\n",
    "    v2=vi + (g-((c*vi)/m))*((i+salto)-i)\n",
    "    vi=v2\n",
    "    if(i==0):\n",
    "        print(0,0)\n",
    "    print((i+1)*2,v2)\n",
    "    x.append(i)\n",
    "    y1.append(v1)\n",
    "    y2.append(v2)\n",
    "plt.plot(x,y1)\n",
    "plt.hold(True)\n",
    "plt.grid(True)\n",
    "plt.plot(x,y2,'k--')\n",
    "plt.legend( ('Analitico','Metodico'), loc = 'under right')\n",
    "plt.title(\"Caida Libre\")\n",
    "plt.xlabel(\"Velocidad\") \n",
    "plt.ylabel(\"Tiempo\") \n",
    "plt.show()"
   ]
  }
 ],
 "metadata": {
  "kernelspec": {
   "display_name": "Python 3",
   "language": "python",
   "name": "python3"
  },
  "language_info": {
   "codemirror_mode": {
    "name": "ipython",
    "version": 3
   },
   "file_extension": ".py",
   "mimetype": "text/x-python",
   "name": "python",
   "nbconvert_exporter": "python",
   "pygments_lexer": "ipython3",
   "version": "3.5.1"
  }
 },
 "nbformat": 4,
 "nbformat_minor": 0
}
