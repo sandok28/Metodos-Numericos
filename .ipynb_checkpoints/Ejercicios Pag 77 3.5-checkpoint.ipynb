{
 "cells": [
  {
   "cell_type": "code",
   "execution_count": null,
   "metadata": {
    "collapsed": true
   },
   "outputs": [],
   "source": [
    "\n",
    "    import math\n",
    "    val=6.737947*math.pow(10, -3)\n",
    "    Val2=0\n",
    "    x=5\n",
    "    print(\"{0:10} | {1:10} | {2:10} | {3:10} |\".format(\"Termino\", \"E^x Aprox\", \"Et\", \"Ea\"));    \n",
    "    for i in range(20):\n",
    "        if(i%2!=0):\n",
    "            Exaprox=-(math.pow(x, i)/math.factorial(i))\n",
    "        else:\n",
    "            Exaprox=(math.pow(x, i)/math.factorial(i))\n",
    "        ant=Val2\n",
    "        Val2+=Exaprox\n",
    "        Ever=val-Val2\n",
    "        Et=(Ever/Val2)*100\n",
    "        Ea=((Val2-ant)/Val2)*100\n",
    "        print(\"{0:10} | {1:10} | {2:10} | {3:10} |\".format(i,Val2,str(Et)+\" %\",str(Ea)+\" %\"));\n",
    "\n",
    "    Val2=0\n",
    "    Val3=0\n",
    "    print (\"1/E^x\")\n",
    "    print(\"{0:10} | {1:10} | {2:10} | {3:10} |\".format(\"Termino\", \"E^x Aprox\", \"Et\", \"Ea\"));\n",
    "    for i in range(20):\n",
    "        Exaprox=(math.pow(x, i)/math.factorial(i))\n",
    "        ant=Val3\n",
    "        Val2+=Exaprox\n",
    "        Val3=1/Val2\n",
    "        Ever=math.fabs(val-Val3)\n",
    "        Et=(Ever/Val3)*100\n",
    "        Ea=((Val3-ant)/Val3)*100\n",
    "        print(\"{0:10} | {1:10} | {2:10} | {3:10} |\".format(i,Val3,str(Et)+\" %\",str(Ea)+\" %\"));"
   ]
  }
 ],
 "metadata": {
  "kernelspec": {
   "display_name": "Python 3",
   "language": "python",
   "name": "python3"
  },
  "language_info": {
   "codemirror_mode": {
    "name": "ipython",
    "version": 3
   },
   "file_extension": ".py",
   "mimetype": "text/x-python",
   "name": "python",
   "nbconvert_exporter": "python",
   "pygments_lexer": "ipython3",
   "version": "3.5.1"
  }
 },
 "nbformat": 4,
 "nbformat_minor": 0
}
