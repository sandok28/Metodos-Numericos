{
 "cells": [
  {
   "cell_type": "code",
   "execution_count": 1,
   "metadata": {
    "collapsed": false
   },
   "outputs": [
    {
     "name": "stdout",
     "output_type": "stream",
     "text": [
      "holaaaa\n",
      "Ingrese el grado del polinomio 3\n",
      "[[0.0, 0.0, 0.0, 0.0], [0.0, 0.0, 0.0, 0.0], [0.0, 0.0, 0.0, 0.0], [0.0, 0.0, 0.0, 0.0]]\n",
      "[0.0, 0.0, 0.0, 0.0]\n",
      "Ingrese el valor de x: 1\n",
      "Ingrese el valor de f(1): 1\n",
      "Ingrese el valor de x: 2\n",
      "Ingrese el valor de f(2): 2\n",
      "Ingrese el valor de x: 3\n",
      "Ingrese el valor de f(3): 3\n",
      "Ingrese el valor de x: 4\n",
      "Ingrese el valor de f(4): 5\n",
      "[1.0, 2.0, 3.0, 4.0]\n",
      "[[1.0, 0.0, 0.0, 0.0], [2.0, 0.0, 0.0, 0.0], [3.0, 0.0, 0.0, 0.0], [5.0, 0.0, 0.0, 0.0]]\n",
      "Ingrese el punto a evaluar: 3\n",
      "i= 1     j= 1\n",
      "( 2.0 - 1.0 )/( 2.0 - 1.0 )\n",
      "matriz[ 1 ][ 1 ] =  1.0\n",
      "i= 1     j= 2\n",
      "( 3.0 - 2.0 )/( 3.0 - 2.0 )\n",
      "matriz[ 2 ][ 1 ] =  1.0\n",
      "i= 1     j= 3\n",
      "( 5.0 - 3.0 )/( 4.0 - 3.0 )\n",
      "matriz[ 3 ][ 1 ] =  2.0\n",
      "i= 2     j= 2\n",
      "( 1.0 - 1.0 )/( 3.0 - 1.0 )\n",
      "matriz[ 2 ][ 2 ] =  0.0\n",
      "i= 2     j= 3\n",
      "( 2.0 - 1.0 )/( 4.0 - 2.0 )\n",
      "matriz[ 3 ][ 2 ] =  0.5\n",
      "i= 3     j= 3\n",
      "( 0.5 - 0.0 )/( 4.0 - 1.0 )\n",
      "matriz[ 3 ][ 3 ] =  0.16666666666666666\n",
      "[1.0, 0.0, 0.0, 0.0]\n",
      "[2.0, 1.0, 0.0, 0.0]\n",
      "[3.0, 1.0, 0.0, 0.0]\n",
      "[5.0, 2.0, 0.5, 0.16666666666666666]\n",
      "matriz[ 0 ][ 0 ] = 1.0\n",
      "mul antes del ciclo j= 1.0\n",
      "matriz[ 1 ][ 1 ] = 1.0\n",
      "mul antes del ciclo j= 1.0\n",
      "mul en el ciclo j= 2.0\n",
      "matriz[ 2 ][ 2 ] = 0.0\n",
      "mul antes del ciclo j= 0.0\n",
      "mul en el ciclo j= 0.0\n",
      "mul en el ciclo j= 0.0\n",
      "matriz[ 3 ][ 3 ] = 0.16666666666666666\n",
      "mul antes del ciclo j= 0.16666666666666666\n",
      "mul en el ciclo j= 0.3333333333333333\n",
      "mul en el ciclo j= 0.3333333333333333\n",
      "mul en el ciclo j= 0.0\n",
      "El valor aproximado de f( 3.0 ) es:  3.0\n"
     ]
    }
   ],
   "source": [
    "\n",
    "n = int(input(\"Ingrese el grado del polinomio \"))+1\n",
    "matriz = [0.0] * n\n",
    "for i in range(n):\n",
    "    matriz[i] = [0.0] * n\n",
    "\n",
    "vector = [0.0] * n\n",
    "\n",
    "print (matriz)\n",
    "print (vector)\n",
    "for i in range(n):\n",
    "    x = input(\"Ingrese el valor de x: \")\n",
    "    y = input(\"Ingrese el valor de f(\"+x+\"): \")\n",
    "    vector[i]=float(x)\n",
    "    matriz[i][0]=float(y)\n",
    "\n",
    "print (vector)    \n",
    "print (matriz)\n",
    "\n",
    "punto_a_evaluar = float(input(\"Ingrese el punto a evaluar: \"))\n",
    "for i in range(1,n):\n",
    "    for j in range(i,n):\n",
    "        print( \"i=\",i,\"    j=\",j)\n",
    "        print (\"(\",matriz[j][i-1],\"-\",matriz[j-1][i-1],\")/(\",vector[j],\"-\",vector[j-i],\")\")\n",
    "        matriz[j][i] = ( (matriz[j][i-1]-matriz[j-1][i-1]) / (vector[j]-vector[j-i]))\n",
    "        print (\"matriz[\",j,\"][\",i,\"] = \",(matriz[j][i-1]-matriz[j-1][i-1])/(vector[j]-vector[j-i]))\n",
    "\n",
    "for i in range(n):\n",
    "    print (matriz[i])\n",
    "aprx = 0\n",
    "mul = 1.0\n",
    "for i in range(n):\n",
    "    print (\"matriz[\",i,\"][\",i,\"]\",\"=\",matriz[i][i])\n",
    "    mul = matriz[i][i];\n",
    "    print (\"mul antes del ciclo j=\",mul)\n",
    "    for j in range(1,i+1):\n",
    "        mul = mul * (punto_a_evaluar - vector[j-1])\n",
    "        print (\"mul en el ciclo j=\",mul)\n",
    "    # print aprx\n",
    "    aprx = aprx + mul\n",
    "\n",
    "print (\"El valor aproximado de f(\",punto_a_evaluar,\") es: \", aprx)"
   ]
  },
  {
   "cell_type": "code",
   "execution_count": null,
   "metadata": {
    "collapsed": true
   },
   "outputs": [],
   "source": []
  }
 ],
 "metadata": {
  "kernelspec": {
   "display_name": "Python 3",
   "language": "python",
   "name": "python3"
  },
  "language_info": {
   "codemirror_mode": {
    "name": "ipython",
    "version": 3
   },
   "file_extension": ".py",
   "mimetype": "text/x-python",
   "name": "python",
   "nbconvert_exporter": "python",
   "pygments_lexer": "ipython3",
   "version": "3.5.1"
  }
 },
 "nbformat": 4,
 "nbformat_minor": 0
}
