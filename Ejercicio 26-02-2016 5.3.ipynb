{
 "cells": [
  {
   "cell_type": "code",
   "execution_count": null,
   "metadata": {
    "collapsed": true
   },
   "outputs": [],
   "source": []
  },
  {
   "cell_type": "code",
   "execution_count": 4,
   "metadata": {
    "collapsed": false
   },
   "outputs": [
    {
     "name": "stdout",
     "output_type": "stream",
     "text": [
      "Método Bisección\n",
      "Iteracion  | xl         | xu         | xr         | Ea(%)      | Et(%)      |\n",
      "         1 |        0.5 |        1.0 |       0.75 |      100.0 | 22.745466666666672 |\n",
      "         2 |        0.5 |       0.75 |      0.625 |       20.0 | 7.294560000000009 |\n",
      "         3 |        0.5 |      0.625 |     0.5625 | 11.11111111111111 | 3.0060444444444356 |\n",
      "         4 |     0.5625 |      0.625 |    0.59375 | 5.263157894736842 | 2.4153263157894815 |\n",
      "Falsa posición\n",
      "Iteracion  | xl         | xu         | xr         | Ea(%)      | Et(%)      |\n",
      "         1 |        0.5 |        1.0 | 0.6427278213639107 |      100.0 | 9.851576244131467 |\n",
      "         2 | 0.6427278213639107 |        1.0 | 0.5247009736209582 | 22.494116397088025 | 10.42651512565375 |\n",
      "         3 | 0.5247009736209582 |        1.0 | 0.623826404113272 | 15.88990620446949 | 7.120154552676943 |\n",
      "         4 | 0.623826404113272 |        1.0 | 0.5412848505581569 | 15.249189677117444 | 7.043269251398883 |\n",
      "         5 | 0.5412848505581569 |        1.0 | 0.6107149120828013 | 11.36865338490883 | 5.126109001667349 |\n",
      "         6 | 0.6107149120828013 |        1.0 | 0.5526849763546966 | 10.499640520509246 | 4.835308500977359 |\n",
      "         7 | 0.5526849763546966 |        1.0 | 0.6015164096107286 | 8.118055048179528 | 3.6752795530608164 |\n"
     ]
    }
   ],
   "source": [
    "import math\n",
    "import matplotlib.pyplot as plt\n",
    "\n",
    "i=-4\n",
    "X,Y=[],[]\n",
    "def funcion(x):\n",
    "    valor=(-25)+(82*x)-(90*x*x)+(44*x*x*x)-(8*x*x*x*x)+(0.7*x*x*x*x*x)\n",
    "    return valor\n",
    "#grafica\n",
    "while 1:\n",
    "    X.append(i)\n",
    "    Y.append(funcion(i))\n",
    "    i+=1\n",
    "    if(i==4):\n",
    "        break\n",
    "    \n",
    "plt.axis([-2,3,-1000,1000])\n",
    "plt.plot(X,Y)\n",
    "plt.title(\"Metodo Grafico\")\n",
    "plt.xlabel(\"TIEMPO\")\n",
    "plt.ylabel(\"VELOCIDAD\")\n",
    "plt.show()\n",
    "#Bisección\n",
    "xl,xu,xr,fxl,fxr,xrant,i=0.5,1.0,0.0,1.0,1.0,0.0,1\n",
    "es=10\n",
    "verd=0.579409\n",
    "print (\"Método Bisección\")\n",
    "print(\"{0:10} | {1:10} | {2:10} | {3:10} | {4:10} | {5:10} |\".format(\"Iteracion\", \"xl\", \"xu\",\"xr\",\"Ea(%)\",\"Et(%)\"))\n",
    "while 1:\n",
    "    xrant=xr\n",
    "    xr=(xl+xu)/2\n",
    "    fxl=funcion(xl)\n",
    "    fxr=funcion(xr)\n",
    "    ea=math.fabs((xr-xrant)/xr)*100\n",
    "    et=math.fabs((verd-xr)/xr)*100\n",
    "    print(\"{0:10} | {1:10} | {2:10} | {3:10} | {4:10} | {5:10} |\".format(i,xl,xu,xr,ea,et));\n",
    "    if(ea<es):\n",
    "        break\n",
    "    if((fxl*fxr)<0):\n",
    "        xu=xr\n",
    "    if((fxl*fxr)>0):\n",
    "        xl=xr\n",
    "    i+=1\n",
    "#Falsa Posición\n",
    "xl,xu,xr,fxl,fxr,xrant,i=0.5,1.0,0.0,1.0,1.0,0.0,1\n",
    "es=10\n",
    "verd=0.579409\n",
    "print (\"Falsa posición\")\n",
    "print(\"{0:10} | {1:10} | {2:10} | {3:10} | {4:10} | {5:10} |\".format(\"Iteracion\", \"xl\", \"xu\",\"xr\",\"Ea(%)\",\"Et(%)\"))\n",
    "while ((fxl*fxr)!=0):\n",
    "    xrant=xr\n",
    "    xr=xu-(funcion(xu)*(xl-xu))/(funcion(xl)-funcion(xu))\n",
    "    ea=math.fabs((xr-xrant)/xr)*100\n",
    "    et=math.fabs((verd-xr)/xr)*100\n",
    "    print(\"{0:10} | {1:10} | {2:10} | {3:10} | {4:10} | {5:10} |\".format(i,xl,xu,xr,ea,et));\n",
    "    if((fxl*fxr)<0):\n",
    "        xu=xr\n",
    "    if((fxl*fxr)>0):\n",
    "        xl=xr\n",
    "    i+=1\n",
    "    if(ea<=es):\n",
    "        break"
   ]
  },
  {
   "cell_type": "code",
   "execution_count": null,
   "metadata": {
    "collapsed": true
   },
   "outputs": [],
   "source": []
  }
 ],
 "metadata": {
  "kernelspec": {
   "display_name": "Python 3",
   "language": "python",
   "name": "python3"
  },
  "language_info": {
   "codemirror_mode": {
    "name": "ipython",
    "version": 3
   },
   "file_extension": ".py",
   "mimetype": "text/x-python",
   "name": "python",
   "nbconvert_exporter": "python",
   "pygments_lexer": "ipython3",
   "version": "3.5.1"
  }
 },
 "nbformat": 4,
 "nbformat_minor": 0
}
