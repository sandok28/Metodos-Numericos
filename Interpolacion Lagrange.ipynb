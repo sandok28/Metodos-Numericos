{
 "cells": [
  {
   "cell_type": "code",
   "execution_count": 2,
   "metadata": {
    "collapsed": false
   },
   "outputs": [
    {
     "name": "stdout",
     "output_type": "stream",
     "text": [
      "El polinomio de  1  grado para x= 2 es :  0.46209799999999995\n"
     ]
    }
   ],
   "source": [
    "x=2\n",
    "grado=1\n",
    "n=grado+1\n",
    "suma=0\n",
    "producto=0\n",
    "X=[1,4,6]\n",
    "Y=[0,1.386294,1.791760]\n",
    "\n",
    "for i in range(0,n):\n",
    "    producto=Y[i]\n",
    "    \n",
    "    for j in range(0,n):\n",
    "        if(i!=j):\n",
    "            producto=producto*((x-X[j])/(X[i]-X[j])) \n",
    "    suma=suma+producto\n",
    "print(\"El polinomio de \",i,\" grado para x=\",x,\"es : \",suma)"
   ]
  },
  {
   "cell_type": "code",
   "execution_count": null,
   "metadata": {
    "collapsed": true
   },
   "outputs": [],
   "source": []
  }
 ],
 "metadata": {
  "kernelspec": {
   "display_name": "Python 3",
   "language": "python",
   "name": "python3"
  },
  "language_info": {
   "codemirror_mode": {
    "name": "ipython",
    "version": 3
   },
   "file_extension": ".py",
   "mimetype": "text/x-python",
   "name": "python",
   "nbconvert_exporter": "python",
   "pygments_lexer": "ipython3",
   "version": "3.5.1"
  }
 },
 "nbformat": 4,
 "nbformat_minor": 0
}
