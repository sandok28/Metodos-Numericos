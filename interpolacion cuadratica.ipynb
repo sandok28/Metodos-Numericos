{
 "cells": [
  {
   "cell_type": "code",
   "execution_count": 2,
   "metadata": {
    "collapsed": false
   },
   "outputs": [],
   "source": [
    "import numpy as np\n",
    "import math\n",
    "import pylab as plt\n",
    "b0=0;\n",
    "xx=[];\n",
    "x=[]\n",
    "z=[]\n",
    "vx=[]\n",
    "vy=[]\n",
    "vz=[]\n",
    "l1=0\n",
    "l6=1.791759\n",
    "l4=1.386294\n",
    "l22=l1+((l4)/(4-1))*(2-1)\n",
    "b1=(l4-l1)/(4-1)\n",
    "b2=(((l6-l4)/(6-4))-b1)/(6-1)\n",
    "l=1.0;\n",
    "z.append(l1) \n",
    "z.append(l22) \n",
    "z.append(l4) \n",
    "plt.title(\"interpolacion lineal\")\n",
    "plt.grid(True)\n",
    "plt.axis([0,10,0,10])\n",
    "plt.ylabel('x2')\n",
    "plt.xlabel('x1')\n",
    "\n",
    "for k in range(1,36):\n",
    "    x.append(math.log(k/4))\n",
    "    xx.append(b0+b1*((k/4)-1)+b2*((k/4)-1)*((k/4)-4) );\n",
    "    vx.append(k/4)\n",
    "    vy.append(k/4)\n",
    "    if (k==1):\n",
    "        vz.append(k)\n",
    "    if (k==2):\n",
    "        vz.append(k)\n",
    "    if (k==4):\n",
    "        vz.append(k) \n",
    "plt.plot(vx,x,'g',linewidth=2,label='Valor verdadero')\n",
    "plt.plot(vy,xx,'r--',linewidth=2,label='f(cuadratica)')\n",
    "plt.plot(vz,z,'k--',linewidth=2,label='f(ln(4))')\n",
    "plt.legend(loc = 4)\n",
    "plt.show()"
   ]
  },
  {
   "cell_type": "code",
   "execution_count": null,
   "metadata": {
    "collapsed": true
   },
   "outputs": [],
   "source": []
  },
  {
   "cell_type": "code",
   "execution_count": null,
   "metadata": {
    "collapsed": true
   },
   "outputs": [],
   "source": []
  }
 ],
 "metadata": {
  "kernelspec": {
   "display_name": "Python 3",
   "language": "python",
   "name": "python3"
  },
  "language_info": {
   "codemirror_mode": {
    "name": "ipython",
    "version": 3
   },
   "file_extension": ".py",
   "mimetype": "text/x-python",
   "name": "python",
   "nbconvert_exporter": "python",
   "pygments_lexer": "ipython3",
   "version": "3.5.1"
  }
 },
 "nbformat": 4,
 "nbformat_minor": 0
}
