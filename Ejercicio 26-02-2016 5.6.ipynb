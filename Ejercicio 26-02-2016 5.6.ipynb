{
 "cells": [
  {
   "cell_type": "code",
   "execution_count": 2,
   "metadata": {
    "collapsed": false
   },
   "outputs": [
    {
     "name": "stdout",
     "output_type": "stream",
     "text": [
      "Método Bisección\n",
      "Iteracion  | xl         | xu         | xr         | Ea(%)      | Et(%)      |\n",
      "         1 |        0.5 |        2.0 |       1.25 |      100.0 | 53.64728000000001 |\n",
      "         2 |       1.25 |        2.0 |      1.625 | 23.076923076923077 | 64.34406153846155 |\n",
      "         3 |       1.25 |      1.625 |     1.4375 | 13.043478260869565 | 59.69328695652174 |\n",
      "Falsa posición\n",
      "Iteracion  | xl         | xu         | xr         | Ea(%)      | Et(%)      |\n",
      "         1 |        0.5 |        2.0 | 1.628707448233353 |      100.0 | 125.46123310541806 |\n",
      "         2 | 1.628707448233353 |        2.0 | 1.3795884843104003 | 18.057483572536277 | 130.0588910907941 |\n",
      "         3 | 1.3795884843104003 |        2.0 | 1.426725122584835 | 3.303834601933415 | 129.06579504597894 |\n"
     ]
    }
   ],
   "source": [
    "import math\n",
    "import matplotlib.pyplot as plt\n",
    "\n",
    "i=-10\n",
    "es=0.5*math.pow(10,-1)\n",
    "X,Y=[],[]\n",
    "def funcion(x):\n",
    "    valor=math.log(math.pow(x,2))-0.7\n",
    "    return valor\n",
    "#grafica\n",
    "while 1:\n",
    "    if(i==0):\n",
    "        X.append(i)\n",
    "        Y.append(-9)\n",
    "    else:\n",
    "        X.append(i)\n",
    "        Y.append(funcion(i))\n",
    "    i=i+1\n",
    "    if(i==10):\n",
    "        break\n",
    "    \n",
    "plt.axis([-3,3,-6,2])\n",
    "plt.plot(X,Y)\n",
    "plt.title(\"Metodo Grafico\")\n",
    "plt.xlabel(\"TIEMPO\")\n",
    "plt.ylabel(\"VELOCIDAD\")\n",
    "plt.show()\n",
    "\n",
    "xl,xu,xr,fxl,fxr,xrant,i=0.5,2.0,0.0,1.0,1.0,0.0,1\n",
    "\n",
    "verd=0.579409\n",
    "print (\"Método Bisección\")\n",
    "print(\"{0:10} | {1:10} | {2:10} | {3:10} | {4:10} | {5:10} |\".format(\"Iteracion\", \"xl\", \"xu\",\"xr\",\"Ea(%)\",\"Et(%)\"))\n",
    "\n",
    "for i in range(1,4):\n",
    "    xrant=xr\n",
    "    xr=(xl+xu)/2\n",
    "    fxl=funcion(xl)\n",
    "    fxr=funcion(xr)\n",
    "    ea=math.fabs((xr-xrant)/xr)*100\n",
    "    et=math.fabs((verd-xr)/xr)*100\n",
    "    print(\"{0:10} | {1:10} | {2:10} | {3:10} | {4:10} | {5:10} |\".format(i,xl,xu,xr,ea,et));\n",
    "    if((fxl*fxr)<0):\n",
    "        xu=xr\n",
    "    if((fxl*fxr)>0):\n",
    "        xl=xr\n",
    "\n",
    "xl,xu,xr,fxl,fxr,xrant,i=0.5,2.0,0.0,1.0,1.0,0.0,1\n",
    "\n",
    "verd=-0.414689\n",
    "print (\"Falsa posición\")\n",
    "print(\"{0:10} | {1:10} | {2:10} | {3:10} | {4:10} | {5:10} |\".format(\"Iteracion\", \"xl\", \"xu\",\"xr\",\"Ea(%)\",\"Et(%)\"))\n",
    "\n",
    "for i in range(1,4):\n",
    "    xrant=xr\n",
    "    xr=xu-(funcion(xu)*(xl-xu))/(funcion(xl)-funcion(xu))\n",
    "    ea=math.fabs((xr-xrant)/xr)*100\n",
    "    et=math.fabs((verd-xr)/xr)*100\n",
    "    print(\"{0:10} | {1:10} | {2:10} | {3:10} | {4:10} | {5:10} |\".format(i,xl,xu,xr,ea,et));\n",
    "    if((fxl*fxr)<0):\n",
    "        xu=xr\n",
    "    if((fxl*fxr)>0):\n",
    "        xl=xr"
   ]
  },
  {
   "cell_type": "code",
   "execution_count": null,
   "metadata": {
    "collapsed": true
   },
   "outputs": [],
   "source": []
  }
 ],
 "metadata": {
  "kernelspec": {
   "display_name": "Python 3",
   "language": "python",
   "name": "python3"
  },
  "language_info": {
   "codemirror_mode": {
    "name": "ipython",
    "version": 3
   },
   "file_extension": ".py",
   "mimetype": "text/x-python",
   "name": "python",
   "nbconvert_exporter": "python",
   "pygments_lexer": "ipython3",
   "version": "3.5.1"
  }
 },
 "nbformat": 4,
 "nbformat_minor": 0
}
