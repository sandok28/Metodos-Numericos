{
 "cells": [
  {
   "cell_type": "code",
   "execution_count": 3,
   "metadata": {
    "collapsed": false
   },
   "outputs": [],
   "source": [
    "import numpy as np\n",
    "import math\n",
    "import pylab as plt\n",
    "x=[]\n",
    "y=[]\n",
    "z=[]\n",
    "vx=[]\n",
    "vy=[]\n",
    "vz=[]\n",
    "l=1.0;\n",
    "l1=0\n",
    "l6=1.791759\n",
    "l4=1.386294\n",
    "y.append(l1)     \n",
    "y.append(l1+((l6)/(6-1))*(2-1)) \n",
    "y.append(l6) \n",
    "z.append(l1) \n",
    "z.append(l1+((l4)/(4-1))*(2-1)) \n",
    "z.append(l4) \n",
    "plt.title(\"interpolacion lineal\")\n",
    "plt.grid(True)\n",
    "plt.axis([0,10,0,10])\n",
    "plt.xlabel('x1')\n",
    "plt.ylabel('x2')\n",
    "for k in range(1,28):\n",
    "    x.append(math.log(k/4))\n",
    "    vx.append(k/4)\n",
    "    if (k==1):\n",
    "        vy.append(k)\n",
    "        vz.append(k)\n",
    "    if (k==2):\n",
    "        vy.append(k)\n",
    "        vz.append(k)\n",
    "    if (k==6):\n",
    "        vy.append(k)\n",
    "    if (k==4):\n",
    "        vz.append(k)\n",
    "\n",
    "plt.plot(vx,x,'g',linewidth=2,label='Valor')\n",
    "plt.plot(vy,y,'r--',linewidth=2,label='ln(6)')\n",
    "plt.plot(vz,z,'k--',linewidth=2,label='ln(4)')\n",
    "plt.legend(loc = 4)\n",
    "plt.show()\n"
   ]
  },
  {
   "cell_type": "code",
   "execution_count": null,
   "metadata": {
    "collapsed": true
   },
   "outputs": [],
   "source": []
  }
 ],
 "metadata": {
  "kernelspec": {
   "display_name": "Python 3",
   "language": "python",
   "name": "python3"
  },
  "language_info": {
   "codemirror_mode": {
    "name": "ipython",
    "version": 3
   },
   "file_extension": ".py",
   "mimetype": "text/x-python",
   "name": "python",
   "nbconvert_exporter": "python",
   "pygments_lexer": "ipython3",
   "version": "3.5.1"
  }
 },
 "nbformat": 4,
 "nbformat_minor": 0
}
