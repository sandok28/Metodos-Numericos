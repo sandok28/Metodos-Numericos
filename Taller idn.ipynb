{
 "cells": [
  {
   "cell_type": "markdown",
   "metadata": {},
   "source": [
    "1) Implemente la regla del trapecio de un segmento y multiples segmentos (sub 21.1.2) de la figura 21.9 Y 2) Desarrolle los Ejemplos 21.1 y 21.2"
   ]
  },
  {
   "cell_type": "code",
   "execution_count": 4,
   "metadata": {
    "collapsed": false
   },
   "outputs": [
    {
     "name": "stdout",
     "output_type": "stream",
     "text": [
      "Valor por regla de trapecio simple 0.17280000000000004\n",
      "Valor por regla de trapecio multiple 1.0688000000000002\n"
     ]
    }
   ],
   "source": [
    "def trapw(h,f):\n",
    "    trapw=h*(f[0]+f[1])/2\n",
    "    return trapw\n",
    "def trapm(h,n,f):\n",
    "    sum=f[0]\n",
    "    for i in range (1,n):\n",
    "        sum=sum+2*f[i]\n",
    "    sum=sum+f[n]\n",
    "    trapm=h*sum/(2*n)\n",
    "    return trapm\n",
    "a=0\n",
    "b=0.8\n",
    "h=b-a\n",
    "n=0#numero de segmentos\n",
    "f=[0.2,0.232]#valor de la funcion en cada punto\n",
    "print(\"Valor por regla de trapecio simple\",trapw(h,f))\n",
    "h=0.8\n",
    "n=2\n",
    "f=[0.2,2.456,0.232]#valor de la funcion en cada punto\n",
    "print(\"Valor por regla de trapecio multiple\",trapm(h,n,f))"
   ]
  },
  {
   "cell_type": "markdown",
   "metadata": {},
   "source": [
    "3) Implemente la regla de Simpson 1/3 para un segmento y multiples segmentos (sub 21.2.2) de las figuras 21.13a y 21.13c Y 4) Desarrolle los ejemplos 21.4 y 21.5"
   ]
  },
  {
   "cell_type": "code",
   "execution_count": 5,
   "metadata": {
    "collapsed": false
   },
   "outputs": [
    {
     "name": "stdout",
     "output_type": "stream",
     "text": [
      "Valor por regla de simpson 1/3 simple 1.3674666666666666\n"
     ]
    }
   ],
   "source": [
    "def trapw(h,f):\n",
    "    trapw=h*((f[0]+4*f[1]+f[2])/6)\n",
    "    return trapw\n",
    "    \n",
    "a=0\n",
    "b=0.8\n",
    "h=b-a\n",
    "f=[0.2,2.456,0.232]#valor de la funcion en cada punto\n",
    "print(\"Valor por regla de simpson 1/3 simple\",trapw(h,f))"
   ]
  },
  {
   "cell_type": "code",
   "execution_count": 6,
   "metadata": {
    "collapsed": false
   },
   "outputs": [
    {
     "name": "stdout",
     "output_type": "stream",
     "text": [
      "Valor por regla de simpson 1/3 multiple 1.6234666666666666\n"
     ]
    }
   ],
   "source": [
    "def trapm(h,n,f):\n",
    "    sum=f[0]\n",
    "    for i in range (1,n):\n",
    "        if (i==0 or i==2 or i==4 or i==6):\n",
    "            sum=sum+2*f[i]\n",
    "        if (i==1 or i==3 or i==5 or i==7):\n",
    "            sum=sum+4*f[i]\n",
    "    sum=sum+f[n]\n",
    "    trapm=h*sum/(3*n)\n",
    "    return trapm\n",
    "h=0.8\n",
    "n=4\n",
    "f=[0.2,1.288,2.456,3.464,0.232]#valor de la funcion en cada punto\n",
    "print(\"Valor por regla de simpson 1/3 multiple\",trapm(h,n,f))"
   ]
  },
  {
   "cell_type": "markdown",
   "metadata": {},
   "source": [
    "5) Implemente la regla de Simpson 3/8 para un segmento y multiples segmentos (sub 21.2.2) de las figuras 21.13b y 21.13d"
   ]
  },
  {
   "cell_type": "code",
   "execution_count": 7,
   "metadata": {
    "collapsed": false
   },
   "outputs": [
    {
     "name": "stdout",
     "output_type": "stream",
     "text": [
      "Valor por regla de simpson 3/8 simple 1.5191703\n"
     ]
    }
   ],
   "source": [
    "def trapw(h,f):\n",
    "    trapw=h*(f[0]+3*(f[1]+f[2])+f[3])/8\n",
    "    return trapw \n",
    "a=0\n",
    "b=0.8\n",
    "h=b-a\n",
    "f=[0.2,1.432724,3.487177,0.232]#valor de la funcion en cada punto\n",
    "print(\"Valor por regla de simpson 3/8 simple\",trapw(h,f))"
   ]
  },
  {
   "cell_type": "code",
   "execution_count": 8,
   "metadata": {
    "collapsed": false
   },
   "outputs": [
    {
     "name": "stdout",
     "output_type": "stream",
     "text": [
      "Valor por regla de simpson 1/3 simple 0.38032368\n",
      "Valor por regla de simpson 3/8 simple 1.2647534999999999\n",
      "Valor por regla de simpson 3/8 multiple 1.64507718\n"
     ]
    }
   ],
   "source": [
    "def trapm(h,n,f):\n",
    "    sum=f[0]\n",
    "    for i in range (1,n):\n",
    "        sum=sum+4*f[i]\n",
    "    sum=sum+f[n]\n",
    "    trapm=2*h*sum/(3*n)\n",
    "    return trapm\n",
    "def trapw(h,f,a):\n",
    "    trapw=3*h*(f[a-4]+3*(f[a-3]+f[a-2])+f[a-1])/8 \n",
    "    return trapw \n",
    "h=0.16\n",
    "n=2\n",
    "f=[0.2,1.296919,1.743393,3.186015,3.181929,0.232]#valor de la funcion en cada punto\n",
    "a=len(f) \n",
    "print(\"Valor por regla de simpson 1/3 simple\",trapm(h,n,f))\n",
    "print(\"Valor por regla de simpson 3/8 simple\",trapw(h,f,a))\n",
    "print(\"Valor por regla de simpson 3/8 multiple\",trapm(h,n,f)+trapw(h,f,a))"
   ]
  },
  {
   "cell_type": "markdown",
   "metadata": {},
   "source": [
    "6) Implementar las formulas de diferencias divididas finitas de las figuras 23.1,23.2 y 23.3"
   ]
  },
  {
   "cell_type": "code",
   "execution_count": null,
   "metadata": {
    "collapsed": true
   },
   "outputs": [],
   "source": [
    "########## derivada hacia adelante\n",
    "\n",
    "# primera derivada\n",
    "    f=(fx1-fx)/h\n",
    "    f=(-fx2+4*fx1-3*fx)/2*h\n",
    "    \n",
    "# segunda derivada\n",
    "    f=(fx2-2*fx1+fx)/h^2\n",
    "    f=(-fx3+4*fx2-5*fx1+2*fx)/h^2\n",
    "\n",
    "# tercera derivada\n",
    "    f=(fx3-3*fx2+3*fx1-fx)/h^3\n",
    "    f=(-3*fx4+14*fx3-24*fx2+18*fx1-5fx)/2*h^3\n",
    "\n",
    "# cuarta derivada\n",
    "    f=(fx4-4*fx3+6*fx2-4*fx1+fx)/h^4\n",
    "    f=(-2*fx5+11*fx4-24*fx3+26*fx2-14*fx1+3*fx)/h^4\n",
    "\n",
    "########## derivada hacia atras\n",
    "\n",
    "# primera derivada\n",
    "    f=(fx-fx1)/h\n",
    "    f=(fx2-4*fx1+3*fx)/2*h\n",
    "    \n",
    "# segunda derivada\n",
    "    f=(fx2-2*fx1+fx)/h^2\n",
    "    f=(-fx3+4*fx2-5*fx1+2*fx)/h^2\n",
    "    \n",
    "# tercera derivada\n",
    "    f=(-fx3+3*fx2-3*fx1+fx)/h^3\n",
    "    f=(3*fx4-14*fx3+24*fx2-18*fx1+5fx)/2*h^3\n",
    "    \n",
    "# cuarta derivada\n",
    "    f=(fx4-4*fx3+6*fx2-4*fx1+fx)/h^4\n",
    "    f=(-2*fx5+11*fx4-24*fx3+26*fx2-14*fx1+3*fx)/h^4\n",
    "\n",
    "########## derivada hacia centrada\n",
    "\n",
    "# primera derivada\n",
    "    f=(fx11-fx1)/2*h\n",
    "    f=(-fx22+8*fx11-8*fx1+fx2)/12*h\n",
    "    \n",
    "# segunda derivada\n",
    "    f=(fx11-2*fx+fx1)/h^2\n",
    "    f=(-fx22+16*fx11-30*fx+16*fx1-fx2)/12*h^2\n",
    "    \n",
    "# tercera derivada\n",
    "    f=(fx22-2*fx11+2*fx1-fx2)/2*h^3\n",
    "    f=(-fx33+8*fx22-13*fx11+13*fx1-8*fx2+fx3)/8*h^3\n",
    "    \n",
    "# cuarta derivada\n",
    "    f=(fx22-4*fx11+6*fx-4*fx1+fx2)/h^4\n",
    "    f=(-fx33+12*fx22+39*fx11+56*fx-39*fx1+12*fx2+fx3)/6*h^4"
   ]
  },
  {
   "cell_type": "markdown",
   "metadata": {},
   "source": [
    "7) Desarrolle el ejemplo 23.1"
   ]
  },
  {
   "cell_type": "code",
   "execution_count": 10,
   "metadata": {
    "collapsed": false
   },
   "outputs": [
    {
     "name": "stdout",
     "output_type": "stream",
     "text": [
      "La diferencia hacia adelante es:  -0.8593752000000014\n",
      "La diferencia hacia atrás es:     -0.8781279999999985\n",
      "La diferencia centrada es:        -0.9125010666666666\n"
     ]
    }
   ],
   "source": [
    "a=0\n",
    "b=0.25\n",
    "h=b-a\n",
    "\n",
    "fx=0.925\n",
    "fx11=1.103516\n",
    "fx22=1.2\n",
    "fx1=0.6363281\n",
    "fx2=0.2\n",
    "\n",
    "f1=(-fx2+4*fx1-3*fx)/(2*h)\n",
    "f2=(fx22-4*fx11+3*fx)/(2*h)\n",
    "f3=(-fx2+8*fx1-8*fx11+fx22)/(12*h)\n",
    "\n",
    "print(\"La diferencia hacia adelante es: \",f1)\n",
    "print(\"La diferencia hacia atrás es:    \",f2)\n",
    "print(\"La diferencia centrada es:       \",f3)"
   ]
  },
  {
   "cell_type": "code",
   "execution_count": null,
   "metadata": {
    "collapsed": true
   },
   "outputs": [],
   "source": []
  }
 ],
 "metadata": {
  "kernelspec": {
   "display_name": "Python 3",
   "language": "python",
   "name": "python3"
  },
  "language_info": {
   "codemirror_mode": {
    "name": "ipython",
    "version": 3
   },
   "file_extension": ".py",
   "mimetype": "text/x-python",
   "name": "python",
   "nbconvert_exporter": "python",
   "pygments_lexer": "ipython3",
   "version": "3.5.1"
  }
 },
 "nbformat": 4,
 "nbformat_minor": 0
}
