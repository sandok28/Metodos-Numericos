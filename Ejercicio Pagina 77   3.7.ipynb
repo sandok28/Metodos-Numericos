{
 "cells": [
  {
   "cell_type": "code",
   "execution_count": null,
   "metadata": {
    "collapsed": true
   },
   "outputs": [],
   "source": [
    "    x=1.37\n",
    "    y=x*x*x-7*x*x+8*x+0.35\n",
    "    val=y\n",
    "    y=round(y,3)\n",
    "    Ev=val-y\n",
    "    Et=(Ev/y)*100\n",
    "    print(\"{0:10} | {1:10} | {2:10} | {3:10} |\".format(\"Formula\", \"Valor Verdadero\", \"Aproximado\", \"Et %\"));\n",
    "    print(\"{0:10} | {1:10} | {2:10} | {3:10} |\".format(\"Primera formula \",val, y, Et));\n",
    "    #inciso b\n",
    "    y=((x-7)*x+8)*x+0.35\n",
    "    val=y\n",
    "    y=round(y,3)\n",
    "    Ev=val-y\n",
    "    Et=(Ev/y)*100\n",
    "    print(\"{0:10} | {1:10} | {2:10} | {3:10} |\".format(\"Segunda formula \",val, y, Et));"
   ]
  }
 ],
 "metadata": {
  "kernelspec": {
   "display_name": "Python 3",
   "language": "python",
   "name": "python3"
  },
  "language_info": {
   "codemirror_mode": {
    "name": "ipython",
    "version": 3
   },
   "file_extension": ".py",
   "mimetype": "text/x-python",
   "name": "python",
   "nbconvert_exporter": "python",
   "pygments_lexer": "ipython3",
   "version": "3.5.1"
  }
 },
 "nbformat": 4,
 "nbformat_minor": 0
}
